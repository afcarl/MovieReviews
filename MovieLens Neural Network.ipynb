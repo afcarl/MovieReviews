{
 "cells": [
  {
   "cell_type": "markdown",
   "metadata": {},
   "source": [
    "# Neural Network \n",
    "#### Implementation of neural network used for Movie Ratings Data\n",
    "Used on the MovieLens 1M dataset"
   ]
  },
  {
   "cell_type": "code",
   "execution_count": 1,
   "metadata": {
    "collapsed": true
   },
   "outputs": [],
   "source": [
    "import numpy as np\n",
    "import pandas as pd\n",
    "import random\n",
    "import matplotlib.pyplot as plt\n",
    "%matplotlib inline"
   ]
  },
  {
   "cell_type": "code",
   "execution_count": 2,
   "metadata": {
    "collapsed": false
   },
   "outputs": [
    {
     "name": "stderr",
     "output_type": "stream",
     "text": [
      "/Users/navneetmkumar/anaconda/lib/python3.6/site-packages/ipykernel/__main__.py:5: ParserWarning: Falling back to the 'python' engine because the 'c' engine does not support regex separators (separators > 1 char and different from '\\s+' are interpreted as regex); you can avoid this warning by specifying engine='python'.\n",
      "/Users/navneetmkumar/anaconda/lib/python3.6/site-packages/ipykernel/__main__.py:6: ParserWarning: Falling back to the 'python' engine because the 'c' engine does not support regex separators (separators > 1 char and different from '\\s+' are interpreted as regex); you can avoid this warning by specifying engine='python'.\n",
      "/Users/navneetmkumar/anaconda/lib/python3.6/site-packages/ipykernel/__main__.py:7: ParserWarning: Falling back to the 'python' engine because the 'c' engine does not support regex separators (separators > 1 char and different from '\\s+' are interpreted as regex); you can avoid this warning by specifying engine='python'.\n"
     ]
    },
    {
     "name": "stdout",
     "output_type": "stream",
     "text": [
      "   User_ID Gender  Age  Occupation Zip_code\n",
      "0        1      F    1          10    48067\n",
      "1        2      M   56          16    70072\n",
      "2        3      M   25          15    55117\n",
      "3        4      M   45           7    02460\n",
      "4        5      M   25          20    55455\n",
      "   Movie_ID                               Title                         Genre\n",
      "0         1                    Toy Story (1995)   Animation|Children's|Comedy\n",
      "1         2                      Jumanji (1995)  Adventure|Children's|Fantasy\n",
      "2         3             Grumpier Old Men (1995)                Comedy|Romance\n",
      "3         4            Waiting to Exhale (1995)                  Comedy|Drama\n",
      "4         5  Father of the Bride Part II (1995)                        Comedy\n",
      "   User_ID  Movie_ID  Rating  Timestamp\n",
      "0        1      1193       5  978300760\n",
      "1        1       661       3  978302109\n",
      "2        1       914       3  978301968\n",
      "3        1      3408       4  978300275\n",
      "4        1      2355       5  978824291\n"
     ]
    }
   ],
   "source": [
    "#Loading the data\n",
    "columns_user = ['User_ID','Gender','Age','Occupation','Zip_code']\n",
    "columns_movies = ['Movie_ID', 'Title', 'Genre']\n",
    "columns_ratings = ['User_ID', 'Movie_ID', 'Rating', 'Timestamp']\n",
    "user_data = pd.read_csv('users.dat', sep='::', header=None, names=columns_user)\n",
    "movie_data = pd.read_csv('movies.dat', sep='::', header=None, names=columns_movies)\n",
    "ratings_data = pd.read_csv('ratings.dat', sep='::', header=None, names=columns_ratings)\n",
    "print(user_data.head())\n",
    "print(movie_data.head())\n",
    "print(ratings_data.head())\n",
    "\n",
    "# Data mapping for gender"
   ]
  },
  {
   "cell_type": "code",
   "execution_count": 57,
   "metadata": {
    "collapsed": false
   },
   "outputs": [],
   "source": [
    "class Network(object):\n",
    "\n",
    "    def __init__(self, sizes):\n",
    "        self.num_layers = len(sizes)\n",
    "        self.sizes = sizes\n",
    "        self.biases = [np.random.randn(y, 1) for y in sizes[1:]]\n",
    "        self.weights = [np.random.randn(y, x)\n",
    "                        for x, y in zip(sizes[:-1], sizes[1:])]\n",
    "\n",
    "    def feedforward(self, a):\n",
    "        for b, w in zip(self.biases, self.weights):\n",
    "            a = sigmoid(np.dot(w, a)+b)\n",
    "        return a\n",
    "\n",
    "    def SGD(self, training_data, epochs, mini_batch_size, eta,\n",
    "            test_data=None):\n",
    "        if test_data: n_test = len(test_data)\n",
    "        n = len(training_data)\n",
    "        for j in range(epochs):\n",
    "            random.shuffle(training_data)\n",
    "            mini_batches = [\n",
    "                training_data[k:k+mini_batch_size]\n",
    "                for k in range(0, n, mini_batch_size)]\n",
    "            for mini_batch in mini_batches:\n",
    "                self.update_mini_batch(mini_batch, eta)\n",
    "            if test_data:\n",
    "                print(\"Epoch {0}: {1} / {2}\".format(\n",
    "                    j, self.evaluate(test_data), n_test))\n",
    "            else:\n",
    "                print(\"Epoch {0} complete\".format(j))\n",
    "\n",
    "    def update_mini_batch(self, mini_batch, eta):\n",
    "        nabla_b = [np.zeros(b.shape) for b in self.biases]\n",
    "        nabla_w = [np.zeros(w.shape) for w in self.weights]\n",
    "        for x, y in mini_batch:\n",
    "            delta_nabla_b, delta_nabla_w = self.backprop(x, y)\n",
    "            nabla_b = [nb+dnb for nb, dnb in zip(nabla_b, delta_nabla_b)]\n",
    "            nabla_w = [nw+dnw for nw, dnw in zip(nabla_w, delta_nabla_w)]\n",
    "        self.weights = [w-(eta/len(mini_batch))*nw\n",
    "                        for w, nw in zip(self.weights, nabla_w)]\n",
    "        self.biases = [b-(eta/len(mini_batch))*nb\n",
    "                       for b, nb in zip(self.biases, nabla_b)]\n",
    "\n",
    "    def backprop(self, x, y):\n",
    "        nabla_b = [np.zeros(b.shape) for b in self.biases]\n",
    "        nabla_w = [np.zeros(w.shape) for w in self.weights]\n",
    "        # feedforward\n",
    "        activation = x\n",
    "        activations = [x] # list to store all the activations, layer by layer\n",
    "        zs = [] # list to store all the z vectors, layer by layer\n",
    "        for b, w in zip(self.biases, self.weights):\n",
    "            z = np.dot(w, activation)+b\n",
    "            zs.append(z)\n",
    "            activation = sigmoid(z)\n",
    "            activations.append(activation)\n",
    "        # backward pass\n",
    "        delta = self.cost_derivative(activations[-1], y) * \\\n",
    "            sigmoid_prime(zs[-1])\n",
    "        nabla_b[-1] = delta\n",
    "        nabla_w[-1] = np.dot(delta, activations[-2].transpose())\n",
    "        for l in range(2, self.num_layers):\n",
    "            z = zs[-l]\n",
    "            sp = sigmoid_prime(z)\n",
    "            delta = np.dot(self.weights[-l+1].transpose(), delta) * sp\n",
    "            nabla_b[-l] = delta\n",
    "            nabla_w[-l] = np.dot(delta, activations[-l-1])\n",
    "        return (nabla_b, nabla_w)\n",
    "\n",
    "    def evaluate(self, test_data):\n",
    "        test_results = [(np.argmax(self.feedforward(x)), y)\n",
    "                        for (x, y) in test_data]\n",
    "        return sum(int(x == y) for (x, y) in test_results)\n",
    "\n",
    "    def cost_derivative(self, output_activations, y):\n",
    "        return (output_activations-y)\n",
    "\n",
    "def sigmoid(z):\n",
    "    return 1.0/(1.0+np.exp(-z))\n",
    "\n",
    "def sigmoid_prime(z):\n",
    "    return sigmoid(z)*(1-sigmoid(z))\n"
   ]
  },
  {
   "cell_type": "code",
   "execution_count": 3,
   "metadata": {
    "collapsed": false
   },
   "outputs": [
    {
     "name": "stdout",
     "output_type": "stream",
     "text": [
      "   Movie_ID                               Title  \\\n",
      "0         1                    Toy Story (1995)   \n",
      "1         2                      Jumanji (1995)   \n",
      "2         3             Grumpier Old Men (1995)   \n",
      "3         4            Waiting to Exhale (1995)   \n",
      "4         5  Father of the Bride Part II (1995)   \n",
      "\n",
      "                              Genre  \n",
      "0   [Animation, Children's, Comedy]  \n",
      "1  [Adventure, Children's, Fantasy]  \n",
      "2                 [Comedy, Romance]  \n",
      "3                   [Comedy, Drama]  \n",
      "4                          [Comedy]  \n"
     ]
    }
   ],
   "source": [
    "# Separting the genres\n",
    "def separate_data(genre):\n",
    "    s = str(genre).split('|')\n",
    "    return s\n",
    "    \n",
    "movie_data['Genre'] = movie_data['Genre'].apply(separate_data)\n",
    "print(movie_data.head())"
   ]
  },
  {
   "cell_type": "code",
   "execution_count": 4,
   "metadata": {
    "collapsed": false
   },
   "outputs": [
    {
     "name": "stdout",
     "output_type": "stream",
     "text": [
      "   Movie_ID             Title                            Genre  User_ID  \\\n",
      "0         1  Toy Story (1995)  [Animation, Children's, Comedy]        1   \n",
      "1         1  Toy Story (1995)  [Animation, Children's, Comedy]        6   \n",
      "2         1  Toy Story (1995)  [Animation, Children's, Comedy]        8   \n",
      "3         1  Toy Story (1995)  [Animation, Children's, Comedy]        9   \n",
      "4         1  Toy Story (1995)  [Animation, Children's, Comedy]       10   \n",
      "\n",
      "   Rating  Timestamp  \n",
      "0       5  978824268  \n",
      "1       4  978237008  \n",
      "2       4  978233496  \n",
      "3       5  978225952  \n",
      "4       5  978226474  \n"
     ]
    }
   ],
   "source": [
    "# Merging the movies and the ratings dataset\n",
    "movie_data = movie_data.merge(ratings_data, on=['Movie_ID'])\n",
    "print(movie_data.head())"
   ]
  },
  {
   "cell_type": "code",
   "execution_count": 5,
   "metadata": {
    "collapsed": false
   },
   "outputs": [
    {
     "name": "stdout",
     "output_type": "stream",
     "text": [
      "   Movie_ID                                      Title  \\\n",
      "0         1                           Toy Story (1995)   \n",
      "1        48                          Pocahontas (1995)   \n",
      "2       150                           Apollo 13 (1995)   \n",
      "3       260  Star Wars: Episode IV - A New Hope (1977)   \n",
      "4       527                    Schindler's List (1993)   \n",
      "\n",
      "                                       Genre  User_ID  Rating  Timestamp  \\\n",
      "0            [Animation, Children's, Comedy]        1       5  978824268   \n",
      "1  [Animation, Children's, Musical, Romance]        1       5  978824351   \n",
      "2                                    [Drama]        1       5  978301777   \n",
      "3       [Action, Adventure, Fantasy, Sci-Fi]        1       4  978300760   \n",
      "4                               [Drama, War]        1       5  978824195   \n",
      "\n",
      "  Gender  Age  Occupation Zip_code  \n",
      "0      F    1          10    48067  \n",
      "1      F    1          10    48067  \n",
      "2      F    1          10    48067  \n",
      "3      F    1          10    48067  \n",
      "4      F    1          10    48067  \n"
     ]
    }
   ],
   "source": [
    "# Merging the resulting data set with user_id\n",
    "movie_data = movie_data.merge(user_data, on=['User_ID'])\n",
    "print(movie_data.head())"
   ]
  },
  {
   "cell_type": "code",
   "execution_count": 6,
   "metadata": {
    "collapsed": true
   },
   "outputs": [],
   "source": [
    "# Mapping the gender data to 0s and 1s\n",
    "gender = {\n",
    "    'M':0,\n",
    "    'F':1\n",
    "}\n",
    "\n",
    "movie_data['Gender'] = movie_data['Gender'].map(gender)"
   ]
  },
  {
   "cell_type": "code",
   "execution_count": 7,
   "metadata": {
    "collapsed": false
   },
   "outputs": [
    {
     "name": "stdout",
     "output_type": "stream",
     "text": [
      "   Movie_ID                                      Title  \\\n",
      "0         1                           Toy Story (1995)   \n",
      "1        48                          Pocahontas (1995)   \n",
      "2       150                           Apollo 13 (1995)   \n",
      "3       260  Star Wars: Episode IV - A New Hope (1977)   \n",
      "4       527                    Schindler's List (1993)   \n",
      "\n",
      "                                       Genre  User_ID  Rating  Timestamp  \\\n",
      "0            [Animation, Children's, Comedy]        1       5  978824268   \n",
      "1  [Animation, Children's, Musical, Romance]        1       5  978824351   \n",
      "2                                    [Drama]        1       5  978301777   \n",
      "3       [Action, Adventure, Fantasy, Sci-Fi]        1       4  978300760   \n",
      "4                               [Drama, War]        1       5  978824195   \n",
      "\n",
      "   Gender  Age  Occupation Zip_code  \n",
      "0       1    1          10    48067  \n",
      "1       1    1          10    48067  \n",
      "2       1    1          10    48067  \n",
      "3       1    1          10    48067  \n",
      "4       1    1          10    48067  \n"
     ]
    }
   ],
   "source": [
    "print(movie_data.head())"
   ]
  },
  {
   "cell_type": "code",
   "execution_count": 8,
   "metadata": {
    "collapsed": false
   },
   "outputs": [],
   "source": [
    "# Dropping the title, timestamp and zipcode data\n",
    "movie_data.drop(['Title','Zip_code','Timestamp'], inplace=True, axis=1)"
   ]
  },
  {
   "cell_type": "code",
   "execution_count": 9,
   "metadata": {
    "collapsed": false
   },
   "outputs": [
    {
     "name": "stdout",
     "output_type": "stream",
     "text": [
      "         Movie_ID                       Genre  User_ID  Rating  Gender  Age  \\\n",
      "1000199      3408                     [Drama]     5727       5       0   25   \n",
      "1000200      3409           [Drama, Thriller]     5727       4       0   25   \n",
      "1000201      3481                    [Comedy]     5727       4       0   25   \n",
      "1000202      3483     [Animation, Children's]     5727       3       0   25   \n",
      "1000203      3484                  [Thriller]     5727       1       0   25   \n",
      "1000204      3513           [Drama, Thriller]     5727       4       0   25   \n",
      "1000205      3535  [Comedy, Horror, Thriller]     5727       2       0   25   \n",
      "1000206      3536           [Comedy, Romance]     5727       5       0   25   \n",
      "1000207      3555          [Action, Thriller]     5727       3       0   25   \n",
      "1000208      3578             [Action, Drama]     5727       5       0   25   \n",
      "\n",
      "         Occupation  \n",
      "1000199           4  \n",
      "1000200           4  \n",
      "1000201           4  \n",
      "1000202           4  \n",
      "1000203           4  \n",
      "1000204           4  \n",
      "1000205           4  \n",
      "1000206           4  \n",
      "1000207           4  \n",
      "1000208           4  \n"
     ]
    }
   ],
   "source": [
    "print(movie_data.tail(10))"
   ]
  },
  {
   "cell_type": "code",
   "execution_count": 10,
   "metadata": {
    "collapsed": false
   },
   "outputs": [
    {
     "name": "stdout",
     "output_type": "stream",
     "text": [
      "   Movie_ID                                      Genre  User_ID  Rating  \\\n",
      "0         1            [Animation, Children's, Comedy]        1       5   \n",
      "1        48  [Animation, Children's, Musical, Romance]        1       5   \n",
      "2       150                                    [Drama]        1       5   \n",
      "3       260       [Action, Adventure, Fantasy, Sci-Fi]        1       4   \n",
      "4       527                               [Drama, War]        1       5   \n",
      "\n",
      "   Gender  Age  Occupation  Action  Adventure  Animation   ...     Fantasy  \\\n",
      "0       1    1          10       0          0          0   ...           0   \n",
      "1       1    1          10       0          0          0   ...           0   \n",
      "2       1    1          10       0          0          0   ...           0   \n",
      "3       1    1          10       0          0          0   ...           0   \n",
      "4       1    1          10       0          0          0   ...           0   \n",
      "\n",
      "   Film-Noir  Horror  Musical  Mystery  Romance  Sci-Fi  Thriller  War  \\\n",
      "0          0       0        0        0        0       0         0    0   \n",
      "1          0       0        0        0        0       0         0    0   \n",
      "2          0       0        0        0        0       0         0    0   \n",
      "3          0       0        0        0        0       0         0    0   \n",
      "4          0       0        0        0        0       0         0    0   \n",
      "\n",
      "   Western  \n",
      "0        0  \n",
      "1        0  \n",
      "2        0  \n",
      "3        0  \n",
      "4        0  \n",
      "\n",
      "[5 rows x 25 columns]\n"
     ]
    }
   ],
   "source": [
    "# Segregation of genre data\n",
    "genres = [\n",
    "    \"Action\",\n",
    "    \"Adventure\",\n",
    "    \"Animation\",\n",
    "    \"Children's\",\n",
    "    \"Comedy\",\n",
    "    \"Crime\",\n",
    "    \"Documentary\",\n",
    "    \"Drama\",\n",
    "    \"Fantasy\",\n",
    "    \"Film-Noir\",\n",
    "    \"Horror\",\n",
    "    \"Musical\",\n",
    "    \"Mystery\",\n",
    "    \"Romance\",\n",
    "    \"Sci-Fi\",\n",
    "    \"Thriller\",\n",
    "    \"War\",\n",
    "    \"Western\"\n",
    "    ]\n",
    "\n",
    "for g in genres:\n",
    "    movie_data[g] = 0\n",
    "    \n",
    "print(movie_data.head())"
   ]
  },
  {
   "cell_type": "code",
   "execution_count": 11,
   "metadata": {
    "collapsed": false
   },
   "outputs": [
    {
     "name": "stdout",
     "output_type": "stream",
     "text": [
      "   Movie_ID                                      Genre  User_ID  Rating  \\\n",
      "0         1            [Animation, Children's, Comedy]        1       5   \n",
      "1        48  [Animation, Children's, Musical, Romance]        1       5   \n",
      "2       150                                    [Drama]        1       5   \n",
      "3       260       [Action, Adventure, Fantasy, Sci-Fi]        1       4   \n",
      "4       527                               [Drama, War]        1       5   \n",
      "\n",
      "   Gender  Age  Occupation  Action  Adventure  Animation   ...     Fantasy  \\\n",
      "0       1    1          10       0          0          1   ...           0   \n",
      "1       1    1          10       0          0          1   ...           0   \n",
      "2       1    1          10       0          0          0   ...           0   \n",
      "3       1    1          10       1          1          0   ...           1   \n",
      "4       1    1          10       0          0          0   ...           0   \n",
      "\n",
      "   Film-Noir  Horror  Musical  Mystery  Romance  Sci-Fi  Thriller  War  \\\n",
      "0          0       0        0        0        0       0         0    0   \n",
      "1          0       0        1        0        1       0         0    0   \n",
      "2          0       0        0        0        0       0         0    0   \n",
      "3          0       0        0        0        0       1         0    0   \n",
      "4          0       0        0        0        0       0         0    1   \n",
      "\n",
      "   Western  \n",
      "0        0  \n",
      "1        0  \n",
      "2        0  \n",
      "3        0  \n",
      "4        0  \n",
      "\n",
      "[5 rows x 25 columns]\n"
     ]
    }
   ],
   "source": [
    "for i,row in movie_data.iterrows():\n",
    "    genre = row['Genre']\n",
    "    for g in genre:\n",
    "        movie_data.set_value(i,g,1)\n",
    "\n",
    "print(movie_data.head())"
   ]
  },
  {
   "cell_type": "code",
   "execution_count": 12,
   "metadata": {
    "collapsed": false
   },
   "outputs": [
    {
     "name": "stdout",
     "output_type": "stream",
     "text": [
      "   Movie_ID  User_ID  Rating  Gender  Age  Occupation  Action  Adventure  \\\n",
      "0         1        1       5       1    1          10       0          0   \n",
      "1        48        1       5       1    1          10       0          0   \n",
      "2       150        1       5       1    1          10       0          0   \n",
      "3       260        1       4       1    1          10       1          1   \n",
      "4       527        1       5       1    1          10       0          0   \n",
      "\n",
      "   Animation  Children's   ...     Fantasy  Film-Noir  Horror  Musical  \\\n",
      "0          1           1   ...           0          0       0        0   \n",
      "1          1           1   ...           0          0       0        1   \n",
      "2          0           0   ...           0          0       0        0   \n",
      "3          0           0   ...           1          0       0        0   \n",
      "4          0           0   ...           0          0       0        0   \n",
      "\n",
      "   Mystery  Romance  Sci-Fi  Thriller  War  Western  \n",
      "0        0        0       0         0    0        0  \n",
      "1        0        1       0         0    0        0  \n",
      "2        0        0       0         0    0        0  \n",
      "3        0        0       1         0    0        0  \n",
      "4        0        0       0         0    1        0  \n",
      "\n",
      "[5 rows x 24 columns]\n"
     ]
    }
   ],
   "source": [
    "movie_data.drop(['Genre'], inplace=True, axis=1)\n",
    "print(movie_data.head())"
   ]
  },
  {
   "cell_type": "code",
   "execution_count": 13,
   "metadata": {
    "collapsed": false
   },
   "outputs": [
    {
     "name": "stdout",
     "output_type": "stream",
     "text": [
      "Movie_ID       1865.539898\n",
      "User_ID        3024.512348\n",
      "Rating            3.581564\n",
      "Gender            0.246389\n",
      "Age              29.738314\n",
      "Occupation        8.036138\n",
      "Action            0.257403\n",
      "Adventure         0.133925\n",
      "Animation         0.043284\n",
      "Children's        0.072171\n",
      "Comedy            0.356505\n",
      "Crime             0.079524\n",
      "Documentary       0.007908\n",
      "Drama             0.354455\n",
      "Fantasy           0.036293\n",
      "Film-Noir         0.018257\n",
      "Horror            0.076370\n",
      "Musical           0.041524\n",
      "Mystery           0.040170\n",
      "Romance           0.147492\n",
      "Sci-Fi            0.157261\n",
      "Thriller          0.189640\n",
      "War               0.068513\n",
      "Western           0.020679\n",
      "dtype: float64\n"
     ]
    }
   ],
   "source": [
    "print(movie_data.mean())"
   ]
  },
  {
   "cell_type": "code",
   "execution_count": 43,
   "metadata": {
    "collapsed": false
   },
   "outputs": [
    {
     "ename": "ValueError",
     "evalue": "Can only compare identically-labeled Series objects",
     "output_type": "error",
     "traceback": [
      "\u001b[0;31m---------------------------------------------------------------------------\u001b[0m",
      "\u001b[0;31mValueError\u001b[0m                                Traceback (most recent call last)",
      "\u001b[0;32m<ipython-input-43-521acd3bb7cc>\u001b[0m in \u001b[0;36m<module>\u001b[0;34m()\u001b[0m\n\u001b[1;32m      7\u001b[0m \u001b[0;34m\u001b[0m\u001b[0m\n\u001b[1;32m      8\u001b[0m \u001b[0;34m\u001b[0m\u001b[0m\n\u001b[0;32m----> 9\u001b[0;31m \u001b[0mprint\u001b[0m\u001b[0;34m(\u001b[0m\u001b[0muser_1\u001b[0m\u001b[0;34m[\u001b[0m\u001b[0;34m'Movie_ID'\u001b[0m\u001b[0;34m]\u001b[0m \u001b[0;34m==\u001b[0m \u001b[0muser_2\u001b[0m\u001b[0;34m[\u001b[0m\u001b[0;34m'Movie_ID'\u001b[0m\u001b[0;34m]\u001b[0m\u001b[0;34m)\u001b[0m\u001b[0;34m\u001b[0m\u001b[0m\n\u001b[0m\u001b[1;32m     10\u001b[0m \u001b[0;34m\u001b[0m\u001b[0m\n\u001b[1;32m     11\u001b[0m \u001b[0;31m# Calculate the euclidean distance between\u001b[0m\u001b[0;34m\u001b[0m\u001b[0;34m\u001b[0m\u001b[0m\n",
      "\u001b[0;32m/Users/navneetmkumar/anaconda/lib/python3.6/site-packages/pandas/core/ops.py\u001b[0m in \u001b[0;36mwrapper\u001b[0;34m(self, other, axis)\u001b[0m\n\u001b[1;32m    810\u001b[0m             \u001b[0;32mif\u001b[0m \u001b[0;32mnot\u001b[0m \u001b[0mself\u001b[0m\u001b[0;34m.\u001b[0m\u001b[0m_indexed_same\u001b[0m\u001b[0;34m(\u001b[0m\u001b[0mother\u001b[0m\u001b[0;34m)\u001b[0m\u001b[0;34m:\u001b[0m\u001b[0;34m\u001b[0m\u001b[0m\n\u001b[1;32m    811\u001b[0m                 \u001b[0mmsg\u001b[0m \u001b[0;34m=\u001b[0m \u001b[0;34m'Can only compare identically-labeled Series objects'\u001b[0m\u001b[0;34m\u001b[0m\u001b[0m\n\u001b[0;32m--> 812\u001b[0;31m                 \u001b[0;32mraise\u001b[0m \u001b[0mValueError\u001b[0m\u001b[0;34m(\u001b[0m\u001b[0mmsg\u001b[0m\u001b[0;34m)\u001b[0m\u001b[0;34m\u001b[0m\u001b[0m\n\u001b[0m\u001b[1;32m    813\u001b[0m             return self._constructor(na_op(self.values, other.values),\n\u001b[1;32m    814\u001b[0m                                      index=self.index, name=name)\n",
      "\u001b[0;31mValueError\u001b[0m: Can only compare identically-labeled Series objects"
     ]
    }
   ],
   "source": [
    "# Create a pivot table to better visualize the data\n",
    "table = pd.pivot_table(movie_data, index=['User_ID', 'Movie_ID'])\n",
    "user_1 = table.loc[1]\n",
    "user_2 = table.loc[2]\n",
    "user_1 = user_1.reset_index()\n",
    "user_2 = user_2.reset_index()\n",
    "\n",
    "\n",
    "print(user_1['Movie_ID'] == user_2['Movie_ID'])\n",
    "\n",
    "# Calculate the euclidean distance between "
   ]
  },
  {
   "cell_type": "code",
   "execution_count": 39,
   "metadata": {
    "collapsed": false
   },
   "outputs": [
    {
     "name": "stdout",
     "output_type": "stream",
     "text": [
      "   Movie_ID  Action  Adventure  Age  Animation  Children's  Comedy  Crime  \\\n",
      "0         1       0          0    1          1           1       1      0   \n",
      "1        48       0          0    1          1           1       0      0   \n",
      "2       150       0          0    1          0           0       0      0   \n",
      "3       260       1          1    1          0           0       0      0   \n",
      "4       527       0          0    1          0           0       0      0   \n",
      "\n",
      "   Documentary  Drama   ...     Horror  Musical  Mystery  Occupation  Rating  \\\n",
      "0            0      0   ...          0        0        0          10       5   \n",
      "1            0      0   ...          0        1        0          10       5   \n",
      "2            0      1   ...          0        0        0          10       5   \n",
      "3            0      0   ...          0        0        0          10       4   \n",
      "4            0      1   ...          0        0        0          10       5   \n",
      "\n",
      "   Romance  Sci-Fi  Thriller  War  Western  \n",
      "0        0       0         0    0        0  \n",
      "1        1       0         0    0        0  \n",
      "2        0       0         0    0        0  \n",
      "3        0       1         0    0        0  \n",
      "4        0       0         0    1        0  \n",
      "\n",
      "[5 rows x 23 columns]\n",
      "   Movie_ID  Action  Adventure  Age  Animation  Children's  Comedy  Crime  \\\n",
      "0        21       1          0   56          0           0       1      0   \n",
      "1        95       1          0   56          0           0       0      0   \n",
      "2       110       1          0   56          0           0       0      0   \n",
      "3       163       1          0   56          0           0       0      0   \n",
      "4       165       1          0   56          0           0       0      0   \n",
      "\n",
      "   Documentary  Drama   ...     Horror  Musical  Mystery  Occupation  Rating  \\\n",
      "0            0      1   ...          0        0        0          16       1   \n",
      "1            0      0   ...          0        0        0          16       2   \n",
      "2            0      1   ...          0        0        0          16       5   \n",
      "3            0      0   ...          0        0        0          16       4   \n",
      "4            0      0   ...          0        0        0          16       3   \n",
      "\n",
      "   Romance  Sci-Fi  Thriller  War  Western  \n",
      "0        0       0         0    0        0  \n",
      "1        0       0         1    0        0  \n",
      "2        0       0         0    1        0  \n",
      "3        1       0         1    0        0  \n",
      "4        0       0         1    0        0  \n",
      "\n",
      "[5 rows x 23 columns]\n"
     ]
    }
   ],
   "source": [
    "print(user_1.head())\n",
    "print(user_2.head())"
   ]
  },
  {
   "cell_type": "code",
   "execution_count": null,
   "metadata": {
    "collapsed": false
   },
   "outputs": [],
   "source": []
  },
  {
   "cell_type": "code",
   "execution_count": null,
   "metadata": {
    "collapsed": true
   },
   "outputs": [],
   "source": []
  }
 ],
 "metadata": {
  "kernelspec": {
   "display_name": "Python 3",
   "language": "python",
   "name": "python3"
  },
  "language_info": {
   "codemirror_mode": {
    "name": "ipython",
    "version": 3
   },
   "file_extension": ".py",
   "mimetype": "text/x-python",
   "name": "python",
   "nbconvert_exporter": "python",
   "pygments_lexer": "ipython3",
   "version": "3.6.0"
  }
 },
 "nbformat": 4,
 "nbformat_minor": 2
}
